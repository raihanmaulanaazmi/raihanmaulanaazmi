{
  "nbformat": 4,
  "nbformat_minor": 0,
  "metadata": {
    "colab": {
      "name": "Tugas1.ipynb",
      "provenance": [],
      "authorship_tag": "ABX9TyPVTOjuS5zx3bzWNqeF6a2o",
      "include_colab_link": true
    },
    "kernelspec": {
      "name": "python3",
      "display_name": "Python 3"
    }
  },
  "cells": [
    {
      "cell_type": "markdown",
      "metadata": {
        "id": "view-in-github",
        "colab_type": "text"
      },
      "source": [
        "<a href=\"https://colab.research.google.com/github/raihanmaulanaazmi/raihanmaulanaazmi/blob/main/Tugas1.ipynb\" target=\"_parent\"><img src=\"https://colab.research.google.com/assets/colab-badge.svg\" alt=\"Open In Colab\"/></a>"
      ]
    },
    {
      "cell_type": "code",
      "metadata": {
        "id": "dcZ23op1b7a7",
        "outputId": "6fce0502-6ef1-48a9-beb5-73d5edfbc3d9",
        "colab": {
          "base_uri": "https://localhost:8080/",
          "height": 640
        }
      },
      "source": [
        "import pandas as pd\n",
        "path=\"/content/drive/mydrive/machinelearning/Dataset.csv\"\n",
        "Dataset=pd.read_csv(path)\n",
        "Dataset"
      ],
      "execution_count": 1,
      "outputs": [
        {
          "output_type": "execute_result",
          "data": {
            "text/html": [
              "<div>\n",
              "<style scoped>\n",
              "    .dataframe tbody tr th:only-of-type {\n",
              "        vertical-align: middle;\n",
              "    }\n",
              "\n",
              "    .dataframe tbody tr th {\n",
              "        vertical-align: top;\n",
              "    }\n",
              "\n",
              "    .dataframe thead th {\n",
              "        text-align: right;\n",
              "    }\n",
              "</style>\n",
              "<table border=\"1\" class=\"dataframe\">\n",
              "  <thead>\n",
              "    <tr style=\"text-align: right;\">\n",
              "      <th></th>\n",
              "      <th>Dosen</th>\n",
              "      <th>Mata Kuliah</th>\n",
              "      <th>Kompetensi Dasar</th>\n",
              "      <th>Fasilitas</th>\n",
              "      <th>Tujuan</th>\n",
              "      <th>Jenis Materi</th>\n",
              "      <th>IQ Mhs</th>\n",
              "      <th>Tingkat Mhs</th>\n",
              "      <th>Waktu</th>\n",
              "      <th>Nilai</th>\n",
              "      <th>Suasana</th>\n",
              "    </tr>\n",
              "  </thead>\n",
              "  <tbody>\n",
              "    <tr>\n",
              "      <th>0</th>\n",
              "      <td>LEDDY FRANS PATTINASARANY</td>\n",
              "      <td>Pengantar Teknologi Informasi</td>\n",
              "      <td>A</td>\n",
              "      <td>Ruang Kelas</td>\n",
              "      <td>Baik</td>\n",
              "      <td>Wajib</td>\n",
              "      <td>90-110</td>\n",
              "      <td>1</td>\n",
              "      <td>Pagi</td>\n",
              "      <td>60</td>\n",
              "      <td>Nyaman</td>\n",
              "    </tr>\n",
              "    <tr>\n",
              "      <th>1</th>\n",
              "      <td>ZENDY YARVIN MAITIMU</td>\n",
              "      <td>DSS</td>\n",
              "      <td>A</td>\n",
              "      <td>Ruang Kelas</td>\n",
              "      <td>Baik</td>\n",
              "      <td>Wajib</td>\n",
              "      <td>90-110</td>\n",
              "      <td>2</td>\n",
              "      <td>Siang</td>\n",
              "      <td>80</td>\n",
              "      <td>Nyaman</td>\n",
              "    </tr>\n",
              "    <tr>\n",
              "      <th>2</th>\n",
              "      <td>JOKO NGABEDI</td>\n",
              "      <td>Multimedia</td>\n",
              "      <td>A</td>\n",
              "      <td>Ruang Kelas</td>\n",
              "      <td>Baik</td>\n",
              "      <td>Wajib</td>\n",
              "      <td>90-110</td>\n",
              "      <td>2</td>\n",
              "      <td>Sore</td>\n",
              "      <td>100</td>\n",
              "      <td>Nyaman</td>\n",
              "    </tr>\n",
              "    <tr>\n",
              "      <th>3</th>\n",
              "      <td>IRAWATI RATNASARI SAHERTIAN</td>\n",
              "      <td>Pemograman Terstruktur</td>\n",
              "      <td>A</td>\n",
              "      <td>Ruang Kelas</td>\n",
              "      <td>Baik</td>\n",
              "      <td>Wajib</td>\n",
              "      <td>90-110</td>\n",
              "      <td>3</td>\n",
              "      <td>Pagi</td>\n",
              "      <td>80</td>\n",
              "      <td>Nyaman</td>\n",
              "    </tr>\n",
              "    <tr>\n",
              "      <th>4</th>\n",
              "      <td>YANITHA KAPASIANG</td>\n",
              "      <td>Struktur Data</td>\n",
              "      <td>A</td>\n",
              "      <td>Ruang Kelas</td>\n",
              "      <td>Baik</td>\n",
              "      <td>Wajib</td>\n",
              "      <td>90-110</td>\n",
              "      <td>4</td>\n",
              "      <td>Siang</td>\n",
              "      <td>70</td>\n",
              "      <td>Nyaman</td>\n",
              "    </tr>\n",
              "    <tr>\n",
              "      <th>...</th>\n",
              "      <td>...</td>\n",
              "      <td>...</td>\n",
              "      <td>...</td>\n",
              "      <td>...</td>\n",
              "      <td>...</td>\n",
              "      <td>...</td>\n",
              "      <td>...</td>\n",
              "      <td>...</td>\n",
              "      <td>...</td>\n",
              "      <td>...</td>\n",
              "      <td>...</td>\n",
              "    </tr>\n",
              "    <tr>\n",
              "      <th>23808</th>\n",
              "      <td>ERICK ADAM INUHAN</td>\n",
              "      <td>Pemograman Jaringan</td>\n",
              "      <td>A</td>\n",
              "      <td>PJJ</td>\n",
              "      <td>Baik</td>\n",
              "      <td>Wajib</td>\n",
              "      <td>90-110</td>\n",
              "      <td>1</td>\n",
              "      <td>Sore</td>\n",
              "      <td>65</td>\n",
              "      <td>Nyaman</td>\n",
              "    </tr>\n",
              "    <tr>\n",
              "      <th>23809</th>\n",
              "      <td>HARTONO</td>\n",
              "      <td>Sis. Operasi</td>\n",
              "      <td>A</td>\n",
              "      <td>Ruang Kelas</td>\n",
              "      <td>Baik</td>\n",
              "      <td>Wajib</td>\n",
              "      <td>90-110</td>\n",
              "      <td>4</td>\n",
              "      <td>Sore</td>\n",
              "      <td>100</td>\n",
              "      <td>Nyaman</td>\n",
              "    </tr>\n",
              "    <tr>\n",
              "      <th>23810</th>\n",
              "      <td>ESAU HUWAE</td>\n",
              "      <td>Rekayasa Perangkat Lunak</td>\n",
              "      <td>A</td>\n",
              "      <td>Ruang Kelas</td>\n",
              "      <td>Baik</td>\n",
              "      <td>Wajib</td>\n",
              "      <td>90-110</td>\n",
              "      <td>2</td>\n",
              "      <td>Pagi</td>\n",
              "      <td>80</td>\n",
              "      <td>Nyaman</td>\n",
              "    </tr>\n",
              "    <tr>\n",
              "      <th>23811</th>\n",
              "      <td>YAN ANDRIANTO</td>\n",
              "      <td>Bahasa Pemograman</td>\n",
              "      <td>A</td>\n",
              "      <td>Ruang Kelas</td>\n",
              "      <td>Baik</td>\n",
              "      <td>Wajib</td>\n",
              "      <td>90-110</td>\n",
              "      <td>1</td>\n",
              "      <td>Siang</td>\n",
              "      <td>70</td>\n",
              "      <td>Nyaman</td>\n",
              "    </tr>\n",
              "    <tr>\n",
              "      <th>23812</th>\n",
              "      <td>HARIS</td>\n",
              "      <td>Pengantar Teknologi Informasi</td>\n",
              "      <td>A</td>\n",
              "      <td>Ruang Kelas</td>\n",
              "      <td>Baik</td>\n",
              "      <td>Wajib</td>\n",
              "      <td>90-110</td>\n",
              "      <td>3</td>\n",
              "      <td>Sore</td>\n",
              "      <td>65</td>\n",
              "      <td>Nyaman</td>\n",
              "    </tr>\n",
              "  </tbody>\n",
              "</table>\n",
              "<p>23813 rows × 11 columns</p>\n",
              "</div>"
            ],
            "text/plain": [
              "                             Dosen  ... Suasana\n",
              "0        LEDDY FRANS PATTINASARANY  ...  Nyaman\n",
              "1             ZENDY YARVIN MAITIMU  ...  Nyaman\n",
              "2                     JOKO NGABEDI  ...  Nyaman\n",
              "3      IRAWATI RATNASARI SAHERTIAN  ...  Nyaman\n",
              "4                YANITHA KAPASIANG  ...  Nyaman\n",
              "...                            ...  ...     ...\n",
              "23808            ERICK ADAM INUHAN  ...  Nyaman\n",
              "23809                      HARTONO  ...  Nyaman\n",
              "23810                   ESAU HUWAE  ...  Nyaman\n",
              "23811                YAN ANDRIANTO  ...  Nyaman\n",
              "23812                        HARIS  ...  Nyaman\n",
              "\n",
              "[23813 rows x 11 columns]"
            ]
          },
          "metadata": {
            "tags": []
          },
          "execution_count": 1
        }
      ]
    },
    {
      "cell_type": "code",
      "metadata": {
        "id": "5WkZHhi8d8yE",
        "outputId": "6eb67719-ef5e-4489-fd5c-1074b24cffc4",
        "colab": {
          "base_uri": "https://localhost:8080/",
          "height": 306
        }
      },
      "source": [
        "Dataset.head()"
      ],
      "execution_count": 2,
      "outputs": [
        {
          "output_type": "execute_result",
          "data": {
            "text/html": [
              "<div>\n",
              "<style scoped>\n",
              "    .dataframe tbody tr th:only-of-type {\n",
              "        vertical-align: middle;\n",
              "    }\n",
              "\n",
              "    .dataframe tbody tr th {\n",
              "        vertical-align: top;\n",
              "    }\n",
              "\n",
              "    .dataframe thead th {\n",
              "        text-align: right;\n",
              "    }\n",
              "</style>\n",
              "<table border=\"1\" class=\"dataframe\">\n",
              "  <thead>\n",
              "    <tr style=\"text-align: right;\">\n",
              "      <th></th>\n",
              "      <th>Dosen</th>\n",
              "      <th>Mata Kuliah</th>\n",
              "      <th>Kompetensi Dasar</th>\n",
              "      <th>Fasilitas</th>\n",
              "      <th>Tujuan</th>\n",
              "      <th>Jenis Materi</th>\n",
              "      <th>IQ Mhs</th>\n",
              "      <th>Tingkat Mhs</th>\n",
              "      <th>Waktu</th>\n",
              "      <th>Nilai</th>\n",
              "      <th>Suasana</th>\n",
              "    </tr>\n",
              "  </thead>\n",
              "  <tbody>\n",
              "    <tr>\n",
              "      <th>0</th>\n",
              "      <td>LEDDY FRANS PATTINASARANY</td>\n",
              "      <td>Pengantar Teknologi Informasi</td>\n",
              "      <td>A</td>\n",
              "      <td>Ruang Kelas</td>\n",
              "      <td>Baik</td>\n",
              "      <td>Wajib</td>\n",
              "      <td>90-110</td>\n",
              "      <td>1</td>\n",
              "      <td>Pagi</td>\n",
              "      <td>60</td>\n",
              "      <td>Nyaman</td>\n",
              "    </tr>\n",
              "    <tr>\n",
              "      <th>1</th>\n",
              "      <td>ZENDY YARVIN MAITIMU</td>\n",
              "      <td>DSS</td>\n",
              "      <td>A</td>\n",
              "      <td>Ruang Kelas</td>\n",
              "      <td>Baik</td>\n",
              "      <td>Wajib</td>\n",
              "      <td>90-110</td>\n",
              "      <td>2</td>\n",
              "      <td>Siang</td>\n",
              "      <td>80</td>\n",
              "      <td>Nyaman</td>\n",
              "    </tr>\n",
              "    <tr>\n",
              "      <th>2</th>\n",
              "      <td>JOKO NGABEDI</td>\n",
              "      <td>Multimedia</td>\n",
              "      <td>A</td>\n",
              "      <td>Ruang Kelas</td>\n",
              "      <td>Baik</td>\n",
              "      <td>Wajib</td>\n",
              "      <td>90-110</td>\n",
              "      <td>2</td>\n",
              "      <td>Sore</td>\n",
              "      <td>100</td>\n",
              "      <td>Nyaman</td>\n",
              "    </tr>\n",
              "    <tr>\n",
              "      <th>3</th>\n",
              "      <td>IRAWATI RATNASARI SAHERTIAN</td>\n",
              "      <td>Pemograman Terstruktur</td>\n",
              "      <td>A</td>\n",
              "      <td>Ruang Kelas</td>\n",
              "      <td>Baik</td>\n",
              "      <td>Wajib</td>\n",
              "      <td>90-110</td>\n",
              "      <td>3</td>\n",
              "      <td>Pagi</td>\n",
              "      <td>80</td>\n",
              "      <td>Nyaman</td>\n",
              "    </tr>\n",
              "    <tr>\n",
              "      <th>4</th>\n",
              "      <td>YANITHA KAPASIANG</td>\n",
              "      <td>Struktur Data</td>\n",
              "      <td>A</td>\n",
              "      <td>Ruang Kelas</td>\n",
              "      <td>Baik</td>\n",
              "      <td>Wajib</td>\n",
              "      <td>90-110</td>\n",
              "      <td>4</td>\n",
              "      <td>Siang</td>\n",
              "      <td>70</td>\n",
              "      <td>Nyaman</td>\n",
              "    </tr>\n",
              "  </tbody>\n",
              "</table>\n",
              "</div>"
            ],
            "text/plain": [
              "                         Dosen                    Mata Kuliah  ... Nilai Suasana\n",
              "0    LEDDY FRANS PATTINASARANY  Pengantar Teknologi Informasi  ...    60  Nyaman\n",
              "1         ZENDY YARVIN MAITIMU                            DSS  ...    80  Nyaman\n",
              "2                 JOKO NGABEDI                     Multimedia  ...   100  Nyaman\n",
              "3  IRAWATI RATNASARI SAHERTIAN         Pemograman Terstruktur  ...    80  Nyaman\n",
              "4            YANITHA KAPASIANG                  Struktur Data  ...    70  Nyaman\n",
              "\n",
              "[5 rows x 11 columns]"
            ]
          },
          "metadata": {
            "tags": []
          },
          "execution_count": 2
        }
      ]
    },
    {
      "cell_type": "code",
      "metadata": {
        "id": "ClGQpuo5eHgo",
        "outputId": "5a1998da-622b-4098-9256-9676330a758c",
        "colab": {
          "base_uri": "https://localhost:8080/",
          "height": 34
        }
      },
      "source": [
        "Dataset.shape"
      ],
      "execution_count": 3,
      "outputs": [
        {
          "output_type": "execute_result",
          "data": {
            "text/plain": [
              "(23813, 11)"
            ]
          },
          "metadata": {
            "tags": []
          },
          "execution_count": 3
        }
      ]
    },
    {
      "cell_type": "code",
      "metadata": {
        "id": "jS-t-C25eWOY",
        "outputId": "fb278bbb-4ef4-4f86-844d-42024fca4107",
        "colab": {
          "base_uri": "https://localhost:8080/",
          "height": 221
        }
      },
      "source": [
        "Dataset.isnull().sum()"
      ],
      "execution_count": 4,
      "outputs": [
        {
          "output_type": "execute_result",
          "data": {
            "text/plain": [
              "Dosen               0\n",
              "Mata Kuliah         0\n",
              "Kompetensi Dasar    0\n",
              "Fasilitas           0\n",
              "Tujuan              0\n",
              "Jenis Materi        0\n",
              "IQ Mhs              0\n",
              "Tingkat Mhs         0\n",
              "Waktu               0\n",
              "Nilai               0\n",
              "Suasana             0\n",
              "dtype: int64"
            ]
          },
          "metadata": {
            "tags": []
          },
          "execution_count": 4
        }
      ]
    },
    {
      "cell_type": "code",
      "metadata": {
        "id": "0oJeSGn9eiCJ",
        "outputId": "1d8123d7-3c02-49fa-d4e0-9d6b4e01ff18",
        "colab": {
          "base_uri": "https://localhost:8080/",
          "height": 221
        }
      },
      "source": [
        "Dataset.max()"
      ],
      "execution_count": 5,
      "outputs": [
        {
          "output_type": "execute_result",
          "data": {
            "text/plain": [
              "Dosen               ZUBAIDAH HEHANUSSA\n",
              "Mata Kuliah              Struktur Data\n",
              "Kompetensi Dasar                     A\n",
              "Fasilitas                  Ruang Kelas\n",
              "Tujuan                            Baik\n",
              "Jenis Materi                     Wajib\n",
              "IQ Mhs                          90-110\n",
              "Tingkat Mhs                          5\n",
              "Waktu                             Sore\n",
              "Nilai                              100\n",
              "Suasana                         Nyaman\n",
              "dtype: object"
            ]
          },
          "metadata": {
            "tags": []
          },
          "execution_count": 5
        }
      ]
    },
    {
      "cell_type": "code",
      "metadata": {
        "id": "p7lG0trneoEH",
        "outputId": "b15ddc08-1d8d-48e7-a7ca-f9509a33f26a",
        "colab": {
          "base_uri": "https://localhost:8080/",
          "height": 221
        }
      },
      "source": [
        "Dataset.min()"
      ],
      "execution_count": 6,
      "outputs": [
        {
          "output_type": "execute_result",
          "data": {
            "text/plain": [
              "Dosen                   AGUSTINUS RUHULESSIN\n",
              "Mata Kuliah         Algoritma dan Pemograman\n",
              "Kompetensi Dasar                           A\n",
              "Fasilitas                                LAB\n",
              "Tujuan                                  Baik\n",
              "Jenis Materi                           Wajib\n",
              "IQ Mhs                                90-110\n",
              "Tingkat Mhs                                1\n",
              "Waktu                                   Pagi\n",
              "Nilai                                     60\n",
              "Suasana                               Nyaman\n",
              "dtype: object"
            ]
          },
          "metadata": {
            "tags": []
          },
          "execution_count": 6
        }
      ]
    },
    {
      "cell_type": "code",
      "metadata": {
        "id": "CZBs52P_es4Z",
        "outputId": "c59e07b3-9578-4ffc-8847-ce267973edda",
        "colab": {
          "base_uri": "https://localhost:8080/",
          "height": 297
        }
      },
      "source": [
        "Dataset.describe()"
      ],
      "execution_count": 7,
      "outputs": [
        {
          "output_type": "execute_result",
          "data": {
            "text/html": [
              "<div>\n",
              "<style scoped>\n",
              "    .dataframe tbody tr th:only-of-type {\n",
              "        vertical-align: middle;\n",
              "    }\n",
              "\n",
              "    .dataframe tbody tr th {\n",
              "        vertical-align: top;\n",
              "    }\n",
              "\n",
              "    .dataframe thead th {\n",
              "        text-align: right;\n",
              "    }\n",
              "</style>\n",
              "<table border=\"1\" class=\"dataframe\">\n",
              "  <thead>\n",
              "    <tr style=\"text-align: right;\">\n",
              "      <th></th>\n",
              "      <th>Tingkat Mhs</th>\n",
              "      <th>Nilai</th>\n",
              "    </tr>\n",
              "  </thead>\n",
              "  <tbody>\n",
              "    <tr>\n",
              "      <th>count</th>\n",
              "      <td>23813.000000</td>\n",
              "      <td>23813.000000</td>\n",
              "    </tr>\n",
              "    <tr>\n",
              "      <th>mean</th>\n",
              "      <td>2.405745</td>\n",
              "      <td>79.864150</td>\n",
              "    </tr>\n",
              "    <tr>\n",
              "      <th>std</th>\n",
              "      <td>1.324600</td>\n",
              "      <td>12.757734</td>\n",
              "    </tr>\n",
              "    <tr>\n",
              "      <th>min</th>\n",
              "      <td>1.000000</td>\n",
              "      <td>60.000000</td>\n",
              "    </tr>\n",
              "    <tr>\n",
              "      <th>25%</th>\n",
              "      <td>1.000000</td>\n",
              "      <td>70.000000</td>\n",
              "    </tr>\n",
              "    <tr>\n",
              "      <th>50%</th>\n",
              "      <td>2.000000</td>\n",
              "      <td>80.000000</td>\n",
              "    </tr>\n",
              "    <tr>\n",
              "      <th>75%</th>\n",
              "      <td>3.000000</td>\n",
              "      <td>90.000000</td>\n",
              "    </tr>\n",
              "    <tr>\n",
              "      <th>max</th>\n",
              "      <td>5.000000</td>\n",
              "      <td>100.000000</td>\n",
              "    </tr>\n",
              "  </tbody>\n",
              "</table>\n",
              "</div>"
            ],
            "text/plain": [
              "        Tingkat Mhs         Nilai\n",
              "count  23813.000000  23813.000000\n",
              "mean       2.405745     79.864150\n",
              "std        1.324600     12.757734\n",
              "min        1.000000     60.000000\n",
              "25%        1.000000     70.000000\n",
              "50%        2.000000     80.000000\n",
              "75%        3.000000     90.000000\n",
              "max        5.000000    100.000000"
            ]
          },
          "metadata": {
            "tags": []
          },
          "execution_count": 7
        }
      ]
    },
    {
      "cell_type": "code",
      "metadata": {
        "id": "FLaIPoNWeyZq"
      },
      "source": [
        "Data=Dataset.dropna()"
      ],
      "execution_count": 8,
      "outputs": []
    },
    {
      "cell_type": "code",
      "metadata": {
        "id": "tiraJ56SfCHt",
        "outputId": "a1673bd0-ff32-457a-8439-ce63cdf5d4eb",
        "colab": {
          "base_uri": "https://localhost:8080/",
          "height": 34
        }
      },
      "source": [
        "Data.shape"
      ],
      "execution_count": 9,
      "outputs": [
        {
          "output_type": "execute_result",
          "data": {
            "text/plain": [
              "(23813, 11)"
            ]
          },
          "metadata": {
            "tags": []
          },
          "execution_count": 9
        }
      ]
    },
    {
      "cell_type": "code",
      "metadata": {
        "id": "PQW89eolfIKr",
        "outputId": "4ec16114-a0f1-42d1-bb8a-982aef157fdb",
        "colab": {
          "base_uri": "https://localhost:8080/",
          "height": 34
        }
      },
      "source": [
        "Dataset.shape"
      ],
      "execution_count": 10,
      "outputs": [
        {
          "output_type": "execute_result",
          "data": {
            "text/plain": [
              "(23813, 11)"
            ]
          },
          "metadata": {
            "tags": []
          },
          "execution_count": 10
        }
      ]
    }
  ]
}