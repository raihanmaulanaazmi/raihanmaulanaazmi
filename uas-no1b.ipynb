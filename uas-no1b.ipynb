{
  "nbformat": 4,
  "nbformat_minor": 0,
  "metadata": {
    "colab": {
      "name": "uas-no1b.ipynb",
      "provenance": [],
      "collapsed_sections": [],
      "include_colab_link": true
    },
    "kernelspec": {
      "name": "python3",
      "display_name": "Python 3"
    }
  },
  "cells": [
    {
      "cell_type": "markdown",
      "metadata": {
        "id": "view-in-github",
        "colab_type": "text"
      },
      "source": [
        "<a href=\"https://colab.research.google.com/github/raihanmaulanaazmi/raihanmaulanaazmi/blob/main/uas-no1b.ipynb\" target=\"_parent\"><img src=\"https://colab.research.google.com/assets/colab-badge.svg\" alt=\"Open In Colab\"/></a>"
      ]
    },
    {
      "cell_type": "code",
      "metadata": {
        "id": "8g94keLgISIm"
      },
      "source": [
        "jeniskelamin =['laki','laki', 'perempuan', 'perempuan', 'laki', 'laki', 'perempuan', 'perempuan', 'laki', 'perempuan']\r\n",
        "biaya =['murah', 'murah', 'murah','murah','murah', 'standar', 'standar', 'mahal', 'mahal', 'mahal']\r\n",
        "incomelevel =['rendah',  'sedang', 'sedang', 'rendah','sedang', 'sedang', 'sedang', 'tinggi', 'sedang', 'tinggi']\r\n",
        "modeltrans =['bus',  'bus', 'kereta', 'bus','bus', 'kereta', 'kereta', 'mobil', 'mobil', 'mobil']\r\n",
        "\r\n",
        "tujuan =['No', 'Yes','Yes','No', 'Yes', 'No', 'Yes', 'Yes', 'No', 'No']"
      ],
      "execution_count": null,
      "outputs": []
    },
    {
      "cell_type": "code",
      "metadata": {
        "colab": {
          "base_uri": "https://localhost:8080/"
        },
        "id": "AfTQ4TVhIhQC",
        "outputId": "438ff761-38fd-4af2-aea4-db58e70d6dbd"
      },
      "source": [
        "#Import Label Encoder\r\n",
        "from sklearn import preprocessing\r\n",
        "\r\n",
        "#Creating label Encoder\r\n",
        "le = preprocessing.LabelEncoder()\r\n",
        "\r\n",
        "#Convert label string ke number\r\n",
        "jeniskelamin_encoded=le.fit_transform(jeniskelamin)\r\n",
        "print (jeniskelamin_encoded)"
      ],
      "execution_count": null,
      "outputs": [
        {
          "output_type": "stream",
          "text": [
            "[0 0 1 1 0 0 1 1 0 1]\n"
          ],
          "name": "stdout"
        }
      ]
    },
    {
      "cell_type": "code",
      "metadata": {
        "colab": {
          "base_uri": "https://localhost:8080/"
        },
        "id": "_E6h5B6EIpI5",
        "outputId": "4937f05e-5b5a-4882-f606-0470da6fd6bc"
      },
      "source": [
        "#Import LabelEncoder\r\n",
        "from sklearn import preprocessing\r\n",
        "\r\n",
        "#creating labelEncoder\r\n",
        "label = preprocessing.LabelEncoder()\r\n",
        "\r\n",
        "#Convert label string ke numbers\r\n",
        "biaya_encoded=label.fit_transform(biaya)\r\n",
        "print (biaya_encoded) \r\n",
        "\r\n",
        "incomelevel_encoded=label.fit_transform(incomelevel)\r\n",
        "print (incomelevel_encoded)\r\n",
        "\r\n",
        "modeltrans_encoded=label.fit_transform(modeltrans)\r\n",
        "print (modeltrans_encoded)\r\n",
        "\r\n",
        "tujuan_encoded=label.fit_transform(tujuan)\r\n",
        "print (tujuan_encoded)"
      ],
      "execution_count": null,
      "outputs": [
        {
          "output_type": "stream",
          "text": [
            "[1 1 1 1 1 2 2 0 0 0]\n",
            "[0 1 1 0 1 1 1 2 1 2]\n",
            "[0 0 1 0 0 1 1 2 2 2]\n",
            "[0 1 1 0 1 0 1 1 0 0]\n"
          ],
          "name": "stdout"
        }
      ]
    },
    {
      "cell_type": "code",
      "metadata": {
        "colab": {
          "base_uri": "https://localhost:8080/"
        },
        "id": "Q-DAwE8NIvOc",
        "outputId": "94fb7872-c018-45b2-cb59-a056cb661415"
      },
      "source": [
        "print (\"jeniskelamin            :\",jeniskelamin_encoded)\r\n",
        "print (\"biaya                   :\",biaya_encoded)\r\n",
        "print (\"incomelevel             :\",incomelevel_encoded)\r\n",
        "print (\"modeltrans              :\",modeltrans_encoded)\r\n",
        "print (\"tujuan                  :\",tujuan_encoded)"
      ],
      "execution_count": null,
      "outputs": [
        {
          "output_type": "stream",
          "text": [
            "jeniskelamin            : [0 0 1 1 0 0 1 1 0 1]\n",
            "biaya                   : [1 1 1 1 1 2 2 0 0 0]\n",
            "incomelevel             : [0 1 1 0 1 1 1 2 1 2]\n",
            "modeltrans              : [0 0 1 0 0 1 1 2 2 2]\n",
            "tujuan                  : [0 1 1 0 1 0 1 1 0 0]\n"
          ],
          "name": "stdout"
        }
      ]
    },
    {
      "cell_type": "code",
      "metadata": {
        "colab": {
          "base_uri": "https://localhost:8080/"
        },
        "id": "Pu9AGfDMIz08",
        "outputId": "c7845fe6-702f-4a84-aac3-7c1833263a0e"
      },
      "source": [
        "#Combining fitur-fitur yang ada\r\n",
        "features=zip(jeniskelamin_encoded,biaya_encoded,incomelevel_encoded,modeltrans_encoded)\r\n",
        "features=list(features)\r\n",
        "print (tuple(features))"
      ],
      "execution_count": null,
      "outputs": [
        {
          "output_type": "stream",
          "text": [
            "((0, 1, 0, 0), (0, 1, 1, 0), (1, 1, 1, 1), (1, 1, 0, 0), (0, 1, 1, 0), (0, 2, 1, 1), (1, 2, 1, 1), (1, 0, 2, 2), (0, 0, 1, 2), (1, 0, 2, 2))\n"
          ],
          "name": "stdout"
        }
      ]
    },
    {
      "cell_type": "code",
      "metadata": {
        "colab": {
          "base_uri": "https://localhost:8080/"
        },
        "id": "acjzMGKdI3Ts",
        "outputId": "a92c05d1-e277-4d12-82b3-026fccec3cf9"
      },
      "source": [
        "#Import Gaussian Naive Bayes model\r\n",
        "from sklearn.naive_bayes import GaussianNB\r\n",
        "\r\n",
        "#Panggil Gaussian Classifier\r\n",
        "model = GaussianNB()\r\n",
        "\r\n",
        "#Train model untuk data training\r\n",
        "model.fit(features,tujuan)\r\n",
        "#Model.fit(features,label.reshape(-1,1))\r\n",
        "\r\n",
        "#Peridiction Output\r\n",
        "predicted = model.predict([[1,2,0,0]]) #1 : perempuan, 1: biaya, 2: incomelevel , 0 : modeltrans, 0 :\r\n",
        "print (\"Hasil Perdiksi:\", predicted)"
      ],
      "execution_count": null,
      "outputs": [
        {
          "output_type": "stream",
          "text": [
            "Hasil Perdiksi: ['No']\n"
          ],
          "name": "stdout"
        }
      ]
    }
  ]
}